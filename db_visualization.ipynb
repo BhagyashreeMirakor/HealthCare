{
 "cells": [
  {
   "cell_type": "markdown",
   "metadata": {},
   "source": [
    "# 1.Problem Statement"
   ]
  },
  {
   "cell_type": "raw",
   "metadata": {},
   "source": [
    "Problem Statement: To apply machine learning techniques to\n",
    "classify patients based on there hospital stay\n",
    "● Data contains patients data\n",
    "● Given data is labeled"
   ]
  },
  {
   "cell_type": "markdown",
   "metadata": {},
   "source": [
    "# Import Libraries"
   ]
  },
  {
   "cell_type": "code",
   "execution_count": 54,
   "metadata": {},
   "outputs": [],
   "source": [
    "import pandas as pd\n",
    "import numpy as np\n",
    "import matplotlib.pyplot as plt\n",
    "%matplotlib inline\n",
    "import seaborn as sns\n",
    "from sklearn.neighbors import KNeighborsClassifier\n",
    "from sklearn.metrics import confusion_matrix, accuracy_score, classification_report\n",
    "from sklearn.preprocessing import LabelEncoder\n",
    "from sklearn.metrics import roc_auc_score, roc_curve\n",
    "from sklearn.preprocessing import MinMaxScaler,StandardScaler, LabelEncoder"
   ]
  },
  {
   "cell_type": "markdown",
   "metadata": {},
   "source": [
    "# 2. Data Gathering"
   ]
  },
  {
   "cell_type": "code",
   "execution_count": 2,
   "metadata": {},
   "outputs": [
    {
     "data": {
      "text/plain": [
       "(318438, 18)"
      ]
     },
     "execution_count": 2,
     "metadata": {},
     "output_type": "execute_result"
    }
   ],
   "source": [
    "df = pd.read_csv('train_data.csv')\n",
    "df.shape"
   ]
  },
  {
   "cell_type": "markdown",
   "metadata": {},
   "source": [
    "### 2.1 Data information"
   ]
  },
  {
   "cell_type": "code",
   "execution_count": 3,
   "metadata": {},
   "outputs": [
    {
     "name": "stdout",
     "output_type": "stream",
     "text": [
      "<class 'pandas.core.frame.DataFrame'>\n",
      "RangeIndex: 318438 entries, 0 to 318437\n",
      "Data columns (total 18 columns):\n",
      " #   Column                             Non-Null Count   Dtype  \n",
      "---  ------                             --------------   -----  \n",
      " 0   case_id                            318438 non-null  int64  \n",
      " 1   Hospital_code                      318438 non-null  int64  \n",
      " 2   Hospital_type_code                 318438 non-null  object \n",
      " 3   City_Code_Hospital                 318438 non-null  int64  \n",
      " 4   Hospital_region_code               318438 non-null  object \n",
      " 5   Available Extra Rooms in Hospital  318438 non-null  int64  \n",
      " 6   Department                         318438 non-null  object \n",
      " 7   Ward_Type                          318438 non-null  object \n",
      " 8   Ward_Facility_Code                 318438 non-null  object \n",
      " 9   Bed Grade                          318325 non-null  float64\n",
      " 10  patientid                          318438 non-null  int64  \n",
      " 11  City_Code_Patient                  313906 non-null  float64\n",
      " 12  Type of Admission                  318438 non-null  object \n",
      " 13  Severity of Illness                318438 non-null  object \n",
      " 14  Visitors with Patient              318438 non-null  int64  \n",
      " 15  Age                                318438 non-null  object \n",
      " 16  Admission_Deposit                  318438 non-null  int64  \n",
      " 17  Stay                               318438 non-null  object \n",
      "dtypes: float64(2), int64(7), object(9)\n",
      "memory usage: 43.7+ MB\n"
     ]
    }
   ],
   "source": [
    "df.info()"
   ]
  },
  {
   "cell_type": "code",
   "execution_count": 4,
   "metadata": {},
   "outputs": [
    {
     "data": {
      "text/html": [
       "<div>\n",
       "<style scoped>\n",
       "    .dataframe tbody tr th:only-of-type {\n",
       "        vertical-align: middle;\n",
       "    }\n",
       "\n",
       "    .dataframe tbody tr th {\n",
       "        vertical-align: top;\n",
       "    }\n",
       "\n",
       "    .dataframe thead th {\n",
       "        text-align: right;\n",
       "    }\n",
       "</style>\n",
       "<table border=\"1\" class=\"dataframe\">\n",
       "  <thead>\n",
       "    <tr style=\"text-align: right;\">\n",
       "      <th></th>\n",
       "      <th>case_id</th>\n",
       "      <th>Hospital_code</th>\n",
       "      <th>City_Code_Hospital</th>\n",
       "      <th>Available Extra Rooms in Hospital</th>\n",
       "      <th>Bed Grade</th>\n",
       "      <th>patientid</th>\n",
       "      <th>City_Code_Patient</th>\n",
       "      <th>Visitors with Patient</th>\n",
       "      <th>Admission_Deposit</th>\n",
       "    </tr>\n",
       "  </thead>\n",
       "  <tbody>\n",
       "    <tr>\n",
       "      <th>count</th>\n",
       "      <td>318438.000000</td>\n",
       "      <td>318438.000000</td>\n",
       "      <td>318438.000000</td>\n",
       "      <td>318438.000000</td>\n",
       "      <td>318325.000000</td>\n",
       "      <td>318438.000000</td>\n",
       "      <td>313906.000000</td>\n",
       "      <td>318438.000000</td>\n",
       "      <td>318438.000000</td>\n",
       "    </tr>\n",
       "    <tr>\n",
       "      <th>mean</th>\n",
       "      <td>159219.500000</td>\n",
       "      <td>18.318841</td>\n",
       "      <td>4.771717</td>\n",
       "      <td>3.197627</td>\n",
       "      <td>2.625807</td>\n",
       "      <td>65747.579472</td>\n",
       "      <td>7.251859</td>\n",
       "      <td>3.284099</td>\n",
       "      <td>4880.749392</td>\n",
       "    </tr>\n",
       "    <tr>\n",
       "      <th>std</th>\n",
       "      <td>91925.276847</td>\n",
       "      <td>8.633755</td>\n",
       "      <td>3.102535</td>\n",
       "      <td>1.168171</td>\n",
       "      <td>0.873146</td>\n",
       "      <td>37979.936440</td>\n",
       "      <td>4.745266</td>\n",
       "      <td>1.764061</td>\n",
       "      <td>1086.776254</td>\n",
       "    </tr>\n",
       "    <tr>\n",
       "      <th>min</th>\n",
       "      <td>1.000000</td>\n",
       "      <td>1.000000</td>\n",
       "      <td>1.000000</td>\n",
       "      <td>0.000000</td>\n",
       "      <td>1.000000</td>\n",
       "      <td>1.000000</td>\n",
       "      <td>1.000000</td>\n",
       "      <td>0.000000</td>\n",
       "      <td>1800.000000</td>\n",
       "    </tr>\n",
       "    <tr>\n",
       "      <th>25%</th>\n",
       "      <td>79610.250000</td>\n",
       "      <td>11.000000</td>\n",
       "      <td>2.000000</td>\n",
       "      <td>2.000000</td>\n",
       "      <td>2.000000</td>\n",
       "      <td>32847.000000</td>\n",
       "      <td>4.000000</td>\n",
       "      <td>2.000000</td>\n",
       "      <td>4186.000000</td>\n",
       "    </tr>\n",
       "    <tr>\n",
       "      <th>50%</th>\n",
       "      <td>159219.500000</td>\n",
       "      <td>19.000000</td>\n",
       "      <td>5.000000</td>\n",
       "      <td>3.000000</td>\n",
       "      <td>3.000000</td>\n",
       "      <td>65724.500000</td>\n",
       "      <td>8.000000</td>\n",
       "      <td>3.000000</td>\n",
       "      <td>4741.000000</td>\n",
       "    </tr>\n",
       "    <tr>\n",
       "      <th>75%</th>\n",
       "      <td>238828.750000</td>\n",
       "      <td>26.000000</td>\n",
       "      <td>7.000000</td>\n",
       "      <td>4.000000</td>\n",
       "      <td>3.000000</td>\n",
       "      <td>98470.000000</td>\n",
       "      <td>8.000000</td>\n",
       "      <td>4.000000</td>\n",
       "      <td>5409.000000</td>\n",
       "    </tr>\n",
       "    <tr>\n",
       "      <th>max</th>\n",
       "      <td>318438.000000</td>\n",
       "      <td>32.000000</td>\n",
       "      <td>13.000000</td>\n",
       "      <td>24.000000</td>\n",
       "      <td>4.000000</td>\n",
       "      <td>131624.000000</td>\n",
       "      <td>38.000000</td>\n",
       "      <td>32.000000</td>\n",
       "      <td>11008.000000</td>\n",
       "    </tr>\n",
       "  </tbody>\n",
       "</table>\n",
       "</div>"
      ],
      "text/plain": [
       "             case_id  Hospital_code  City_Code_Hospital  \\\n",
       "count  318438.000000  318438.000000       318438.000000   \n",
       "mean   159219.500000      18.318841            4.771717   \n",
       "std     91925.276847       8.633755            3.102535   \n",
       "min         1.000000       1.000000            1.000000   \n",
       "25%     79610.250000      11.000000            2.000000   \n",
       "50%    159219.500000      19.000000            5.000000   \n",
       "75%    238828.750000      26.000000            7.000000   \n",
       "max    318438.000000      32.000000           13.000000   \n",
       "\n",
       "       Available Extra Rooms in Hospital      Bed Grade      patientid  \\\n",
       "count                      318438.000000  318325.000000  318438.000000   \n",
       "mean                            3.197627       2.625807   65747.579472   \n",
       "std                             1.168171       0.873146   37979.936440   \n",
       "min                             0.000000       1.000000       1.000000   \n",
       "25%                             2.000000       2.000000   32847.000000   \n",
       "50%                             3.000000       3.000000   65724.500000   \n",
       "75%                             4.000000       3.000000   98470.000000   \n",
       "max                            24.000000       4.000000  131624.000000   \n",
       "\n",
       "       City_Code_Patient  Visitors with Patient  Admission_Deposit  \n",
       "count      313906.000000          318438.000000      318438.000000  \n",
       "mean            7.251859               3.284099        4880.749392  \n",
       "std             4.745266               1.764061        1086.776254  \n",
       "min             1.000000               0.000000        1800.000000  \n",
       "25%             4.000000               2.000000        4186.000000  \n",
       "50%             8.000000               3.000000        4741.000000  \n",
       "75%             8.000000               4.000000        5409.000000  \n",
       "max            38.000000              32.000000       11008.000000  "
      ]
     },
     "execution_count": 4,
     "metadata": {},
     "output_type": "execute_result"
    }
   ],
   "source": [
    "df.describe()"
   ]
  },
  {
   "cell_type": "code",
   "execution_count": 5,
   "metadata": {},
   "outputs": [
    {
     "name": "stdout",
     "output_type": "stream",
     "text": [
      "Cat features are : Index(['Hospital_type_code', 'Hospital_region_code', 'Department', 'Ward_Type',\n",
      "       'Ward_Facility_Code', 'Type of Admission', 'Severity of Illness', 'Age',\n",
      "       'Stay'],\n",
      "      dtype='object')\n"
     ]
    },
    {
     "data": {
      "text/plain": [
       "(None, 9)"
      ]
     },
     "execution_count": 5,
     "metadata": {},
     "output_type": "execute_result"
    }
   ],
   "source": [
    "cat_features = df.select_dtypes(include = 'object').columns\n",
    "print(\"Cat features are :\",cat_features),len(cat_features)"
   ]
  },
  {
   "cell_type": "code",
   "execution_count": 6,
   "metadata": {},
   "outputs": [
    {
     "name": "stdout",
     "output_type": "stream",
     "text": [
      "Cat features are : Index(['case_id', 'Hospital_code', 'City_Code_Hospital',\n",
      "       'Available Extra Rooms in Hospital', 'Bed Grade', 'patientid',\n",
      "       'City_Code_Patient', 'Visitors with Patient', 'Admission_Deposit'],\n",
      "      dtype='object')\n"
     ]
    },
    {
     "data": {
      "text/plain": [
       "(None, 9)"
      ]
     },
     "execution_count": 6,
     "metadata": {},
     "output_type": "execute_result"
    }
   ],
   "source": [
    "num_features = df.select_dtypes(exclude = 'object').columns\n",
    "print(\"Cat features are :\",num_features),len(num_features)"
   ]
  },
  {
   "cell_type": "markdown",
   "metadata": {},
   "source": [
    "# 3. Exploratory Data Analysis"
   ]
  },
  {
   "cell_type": "markdown",
   "metadata": {},
   "source": [
    "### 3.1 Count of Stay"
   ]
  },
  {
   "cell_type": "code",
   "execution_count": 8,
   "metadata": {},
   "outputs": [
    {
     "data": {
      "text/plain": [
       "21-30                 87491\n",
       "11-20                 78139\n",
       "31-40                 55159\n",
       "51-60                 35018\n",
       "0-10                  23604\n",
       "41-50                 11743\n",
       "71-80                 10254\n",
       "More than 100 Days     6683\n",
       "81-90                  4838\n",
       "91-100                 2765\n",
       "61-70                  2744\n",
       "Name: Stay, dtype: int64"
      ]
     },
     "execution_count": 8,
     "metadata": {},
     "output_type": "execute_result"
    }
   ],
   "source": [
    "df['Stay'].value_counts()"
   ]
  },
  {
   "cell_type": "code",
   "execution_count": 10,
   "metadata": {},
   "outputs": [
    {
     "data": {
      "image/png": "[encoded data removed]",
      "text/plain": [
       "<Figure size 360x360 with 1 Axes>"
      ]
     },
     "metadata": {
      "needs_background": "light"
     },
     "output_type": "display_data"
    }
   ],
   "source": [
    "plt.figure(figsize=(5,5))\n",
    "plt.title('Count of Stay')\n",
    "sns.countplot(x=df['Stay'])\n",
    "plt.xticks()\n",
    "plt.show()\n"
   ]
  },
  {
   "cell_type": "code",
   "execution_count": 11,
   "metadata": {},
   "outputs": [
    {
     "data": {
      "text/plain": [
       "<AxesSubplot:ylabel='Stay'>"
      ]
     },
     "execution_count": 11,
     "metadata": {},
     "output_type": "execute_result"
    },
    {
     "data": {
      "image/png": "[encoded data removed]",
      "text/plain": [
       "<Figure size 432x288 with 1 Axes>"
      ]
     },
     "metadata": {},
     "output_type": "display_data"
    }
   ],
   "source": [
    "df['Stay'].value_counts().plot(kind ='pie',autopct='%1.1f%%')"
   ]
  },
  {
   "cell_type": "raw",
   "metadata": {},
   "source": [
    "Conclusion: Dataset is imbalanced as bad customers are less than good customers"
   ]
  },
  {
   "cell_type": "markdown",
   "metadata": {},
   "source": [
    "## 3.2 Distribution of Age"
   ]
  },
  {
   "cell_type": "code",
   "execution_count": 14,
   "metadata": {},
   "outputs": [
    {
     "data": {
      "image/png": "[encoded data removed]",
      "text/plain": [
       "<Figure size 360x360 with 1 Axes>"
      ]
     },
     "metadata": {
      "needs_background": "light"
     },
     "output_type": "display_data"
    }
   ],
   "source": [
    "plt.figure(figsize=(5,5))\n",
    "plt.title('Age')\n",
    "sns.countplot(x=df['Age'])\n",
    "plt.xticks()\n",
    "plt.show()"
   ]
  },
  {
   "cell_type": "code",
   "execution_count": 11,
   "metadata": {},
   "outputs": [],
   "source": [
    "# sns.distplot(df['loan_amnt'])"
   ]
  },
  {
   "cell_type": "raw",
   "metadata": {},
   "source": [
    "Conclusion: Major patients are in the age group 31-40 and 41-50"
   ]
  },
  {
   "cell_type": "markdown",
   "metadata": {},
   "source": [
    "## 3.3 Count plot of Bed type"
   ]
  },
  {
   "cell_type": "code",
   "execution_count": 24,
   "metadata": {},
   "outputs": [
    {
     "data": {
      "image/png": "[encoded data removed]",
      "text/plain": [
       "<Figure size 360x360 with 1 Axes>"
      ]
     },
     "metadata": {
      "needs_background": "light"
     },
     "output_type": "display_data"
    }
   ],
   "source": [
    "plt.figure(figsize=(5,5))\n",
    "plt.title('Count of Bed type')\n",
    "sns.countplot(x=df['Bed Grade'])\n",
    "labels = df['Bed Grade'].unique()\n",
    "\n",
    "plt.xticks()\n",
    "plt.show()"
   ]
  },
  {
   "cell_type": "code",
   "execution_count": 17,
   "metadata": {},
   "outputs": [
    {
     "data": {
      "text/plain": [
       "<AxesSubplot:ylabel='Bed Grade'>"
      ]
     },
     "execution_count": 17,
     "metadata": {},
     "output_type": "execute_result"
    },
    {
     "data": {
      "image/png": "[encoded data removed]",
      "text/plain": [
       "<Figure size 432x288 with 1 Axes>"
      ]
     },
     "metadata": {},
     "output_type": "display_data"
    }
   ],
   "source": [
    "df['Bed Grade'].value_counts().plot(kind ='pie',labels = labels,autopct='%1.1f%%')"
   ]
  },
  {
   "cell_type": "raw",
   "metadata": {},
   "source": [
    "Conclusion : Majority of patients are using Bed grade 3"
   ]
  },
  {
   "cell_type": "markdown",
   "metadata": {},
   "source": [
    "## 3.5 Admission_Deposit\n"
   ]
  },
  {
   "cell_type": "code",
   "execution_count": 19,
   "metadata": {},
   "outputs": [
    {
     "data": {
      "image/png": "[encoded data removed]",
      "text/plain": [
       "<Figure size 360x360 with 1 Axes>"
      ]
     },
     "metadata": {
      "needs_background": "light"
     },
     "output_type": "display_data"
    }
   ],
   "source": [
    "plt.figure(figsize=(5,5))\n",
    "plt.title('Histogram of Admission deposite')\n",
    "plt.hist(x=df['Admission_Deposit'])\n",
    "plt.show()"
   ]
  },
  {
   "cell_type": "code",
   "execution_count": 27,
   "metadata": {},
   "outputs": [
    {
     "name": "stderr",
     "output_type": "stream",
     "text": [
      "/home/ubuntu/anaconda3/lib/python3.8/site-packages/seaborn/distributions.py:2557: FutureWarning: `distplot` is a deprecated function and will be removed in a future version. Please adapt your code to use either `displot` (a figure-level function with similar flexibility) or `histplot` (an axes-level function for histograms).\n",
      "  warnings.warn(msg, FutureWarning)\n"
     ]
    },
    {
     "data": {
      "text/plain": [
       "<AxesSubplot:xlabel='Admission_Deposit', ylabel='Density'>"
      ]
     },
     "execution_count": 27,
     "metadata": {},
     "output_type": "execute_result"
    },
    {
     "data": {
      "image/png": "[encoded data removed]",
      "text/plain": [
       "<Figure size 432x288 with 1 Axes>"
      ]
     },
     "metadata": {
      "needs_background": "light"
     },
     "output_type": "display_data"
    }
   ],
   "source": [
    "sns.distplot(np.log(df['Admission_Deposit']))"
   ]
  },
  {
   "cell_type": "code",
   "execution_count": 33,
   "metadata": {},
   "outputs": [
    {
     "data": {
      "text/plain": [
       "<seaborn.axisgrid.FacetGrid at 0x7f23485763a0>"
      ]
     },
     "execution_count": 33,
     "metadata": {},
     "output_type": "execute_result"
    },
    {
     "data": {
      "image/png": "[encoded data removed]",
      "text/plain": [
       "<Figure size 360x360 with 1 Axes>"
      ]
     },
     "metadata": {
      "needs_background": "light"
     },
     "output_type": "display_data"
    }
   ],
   "source": [
    "sns.displot(df['Admission_Deposit'],kde=True)"
   ]
  },
  {
   "cell_type": "markdown",
   "metadata": {},
   "source": [
    "# 3.6 City code"
   ]
  },
  {
   "cell_type": "code",
   "execution_count": 15,
   "metadata": {},
   "outputs": [
    {
     "data": {
      "image/png": "[encoded data removed]",
      "text/plain": [
       "<Figure size 360x360 with 1 Axes>"
      ]
     },
     "metadata": {
      "needs_background": "light"
     },
     "output_type": "display_data"
    }
   ],
   "source": [
    "plt.figure(figsize=(5,5))\n",
    "plt.title('Count of emp length')\n",
    "sns.countplot(x=df['emp_length'])\n",
    "labels = df['emp_length'].unique()\n",
    "\n",
    "plt.xticks(ticks=np.arange(11))\n",
    "plt.show()"
   ]
  },
  {
   "cell_type": "markdown",
   "metadata": {},
   "source": [
    "## 3.7 Available Extra Rooms in Hospital\n"
   ]
  },
  {
   "cell_type": "code",
   "execution_count": 21,
   "metadata": {},
   "outputs": [
    {
     "data": {
      "image/png": "[encoded data removed]",
      "text/plain": [
       "<Figure size 360x360 with 1 Axes>"
      ]
     },
     "metadata": {
      "needs_background": "light"
     },
     "output_type": "display_data"
    }
   ],
   "source": [
    "plt.figure(figsize=(5,5))\n",
    "plt.title('Count of Available Extra Rooms in Hospital')\n",
    "sns.countplot(x=df['Available Extra Rooms in Hospital'])\n",
    "labels = df['Available Extra Rooms in Hospital'].unique()\n",
    "\n",
    "plt.xticks(ticks=np.arange(len(labels)))\n",
    "plt.show()"
   ]
  },
  {
   "cell_type": "markdown",
   "metadata": {},
   "source": [
    "# 3.8 Hospital_type_code"
   ]
  },
  {
   "cell_type": "code",
   "execution_count": 23,
   "metadata": {},
   "outputs": [
    {
     "data": {
      "text/plain": [
       "<AxesSubplot:ylabel='Hospital_type_code'>"
      ]
     },
     "execution_count": 23,
     "metadata": {},
     "output_type": "execute_result"
    },
    {
     "data": {
      "image/png": "[encoded data removed]",
      "text/plain": [
       "<Figure size 432x288 with 1 Axes>"
      ]
     },
     "metadata": {},
     "output_type": "display_data"
    }
   ],
   "source": [
    "df['Hospital_type_code'].value_counts().plot(kind ='pie',autopct='%1.1f%%')"
   ]
  },
  {
   "cell_type": "markdown",
   "metadata": {},
   "source": [
    "# 3.9 Severity of Illness"
   ]
  },
  {
   "cell_type": "code",
   "execution_count": 25,
   "metadata": {},
   "outputs": [
    {
     "data": {
      "image/png": "[encoded data removed]",
      "text/plain": [
       "<Figure size 360x360 with 1 Axes>"
      ]
     },
     "metadata": {
      "needs_background": "light"
     },
     "output_type": "display_data"
    }
   ],
   "source": [
    "plt.figure(figsize=(5,5))\n",
    "plt.title('Count of Severity of Illness')\n",
    "sns.countplot(x=df['Severity of Illness'])\n",
    "labels = df['Severity of Illness'].unique()\n",
    "\n",
    "plt.xticks()\n",
    "plt.show()"
   ]
  },
  {
   "cell_type": "markdown",
   "metadata": {},
   "source": [
    "# 3.10 Department"
   ]
  },
  {
   "cell_type": "code",
   "execution_count": 26,
   "metadata": {},
   "outputs": [
    {
     "data": {
      "text/plain": [
       "<AxesSubplot:ylabel='Department'>"
      ]
     },
     "execution_count": 26,
     "metadata": {},
     "output_type": "execute_result"
    },
    {
     "data": {
      "image/png": "[encoded data removed]",
      "text/plain": [
       "<Figure size 432x288 with 1 Axes>"
      ]
     },
     "metadata": {},
     "output_type": "display_data"
    }
   ],
   "source": [
    "df['Department'].value_counts().plot(kind ='pie',autopct='%1.1f%%')"
   ]
  },
  {
   "cell_type": "markdown",
   "metadata": {},
   "source": [
    "# 3.11 Visitors with Patient"
   ]
  },
  {
   "cell_type": "code",
   "execution_count": 22,
   "metadata": {},
   "outputs": [
    {
     "data": {
      "image/png": "[encoded data removed]",
      "text/plain": [
       "<Figure size 1440x720 with 1 Axes>"
      ]
     },
     "metadata": {
      "needs_background": "light"
     },
     "output_type": "display_data"
    }
   ],
   "source": [
    "plt.figure(figsize=(20,10))\n",
    "plt.title('Count plot of Visitors with Patient')\n",
    "sns.countplot(x=df['Visitors with Patient'])\n",
    "labels = df['Visitors with Patient'].unique()\n",
    "\n",
    "plt.xticks(ticks=np.arange(len(labels)))\n",
    "plt.show()"
   ]
  },
  {
   "cell_type": "markdown",
   "metadata": {},
   "source": [
    "# 3.12 Ward_Type"
   ]
  },
  {
   "cell_type": "code",
   "execution_count": 35,
   "metadata": {},
   "outputs": [
    {
     "data": {
      "image/png": "[encoded data removed]",
      "text/plain": [
       "<Figure size 1440x720 with 1 Axes>"
      ]
     },
     "metadata": {
      "needs_background": "light"
     },
     "output_type": "display_data"
    }
   ],
   "source": [
    "plt.figure(figsize=(20,10))\n",
    "plt.title('Count plot of Ward_Type')\n",
    "sns.countplot(x=df['Ward_Type'])\n",
    "labels = df['Ward_Type'].unique()\n",
    "\n",
    "plt.xticks(ticks=np.arange(len(labels)))\n",
    "plt.show()"
   ]
  },
  {
   "cell_type": "markdown",
   "metadata": {},
   "source": [
    "# 3.13 Ward_Facility_Code"
   ]
  },
  {
   "cell_type": "code",
   "execution_count": 30,
   "metadata": {},
   "outputs": [
    {
     "data": {
      "text/plain": [
       "<AxesSubplot:ylabel='Ward_Facility_Code'>"
      ]
     },
     "execution_count": 30,
     "metadata": {},
     "output_type": "execute_result"
    },
    {
     "data": {
      "image/png": "[encoded data removed]",
      "text/plain": [
       "<Figure size 432x288 with 1 Axes>"
      ]
     },
     "metadata": {},
     "output_type": "display_data"
    }
   ],
   "source": [
    "df['Ward_Facility_Code'].value_counts().plot(kind ='pie',autopct='%1.1f%%')"
   ]
  },
  {
   "cell_type": "markdown",
   "metadata": {},
   "source": [
    "# 3.14 Type of Admission"
   ]
  },
  {
   "cell_type": "code",
   "execution_count": 32,
   "metadata": {},
   "outputs": [
    {
     "data": {
      "image/png": "[encoded data removed]",
      "text/plain": [
       "<Figure size 360x360 with 1 Axes>"
      ]
     },
     "metadata": {
      "needs_background": "light"
     },
     "output_type": "display_data"
    }
   ],
   "source": [
    "plt.figure(figsize=(5,5))\n",
    "plt.title('Type of Admission')\n",
    "sns.countplot(x=df['Type of Admission'])\n",
    "plt.xticks()\n",
    "plt.show()"
   ]
  },
  {
   "cell_type": "markdown",
   "metadata": {},
   "source": [
    "# 4. Feature Engineering"
   ]
  },
  {
   "cell_type": "raw",
   "metadata": {},
   "source": [
    "Outliers Impact:\n",
    "1. Logistic Regression\n",
    "2. Kmeans\n",
    "3. PCA\n",
    "\n",
    "Not sensitive to Outliers:\n",
    "1. Decision Tree\n",
    "2. KNN\n",
    "3. Random Forest\n",
    "4. Adaboost\n",
    "5. SGBoost\n",
    "6. SVM"
   ]
  },
  {
   "cell_type": "markdown",
   "metadata": {},
   "source": [
    "## 4.1 Correlation of Features"
   ]
  },
  {
   "cell_type": "code",
   "execution_count": 36,
   "metadata": {},
   "outputs": [
    {
     "data": {
      "text/plain": [
       "<AxesSubplot:>"
      ]
     },
     "execution_count": 36,
     "metadata": {},
     "output_type": "execute_result"
    },
    {
     "data": {
      "image/png": "[encoded data removed]",
      "text/plain": [
       "<Figure size 720x720 with 2 Axes>"
      ]
     },
     "metadata": {
      "needs_background": "light"
     },
     "output_type": "display_data"
    }
   ],
   "source": [
    "plt.figure(figsize=(10,10))\n",
    "sns.heatmap(df.corr(),annot = True)"
   ]
  },
  {
   "cell_type": "code",
   "execution_count": 37,
   "metadata": {},
   "outputs": [
    {
     "data": {
      "text/plain": [
       "<AxesSubplot:ylabel='Admission_Deposit'>"
      ]
     },
     "execution_count": 37,
     "metadata": {},
     "output_type": "execute_result"
    },
    {
     "data": {
      "image/png": "[encoded data removed]",
      "text/plain": [
       "<Figure size 504x504 with 1 Axes>"
      ]
     },
     "metadata": {
      "needs_background": "light"
     },
     "output_type": "display_data"
    }
   ],
   "source": [
    "plt.figure(figsize=(7,7))\n",
    "sns.boxplot(y=np.log(df['Admission_Deposit']))"
   ]
  },
  {
   "cell_type": "code",
   "execution_count": 38,
   "metadata": {},
   "outputs": [
    {
     "data": {
      "text/plain": [
       "0         8.499233\n",
       "1         8.691819\n",
       "2         8.464847\n",
       "3         8.891787\n",
       "4         8.622994\n",
       "            ...   \n",
       "318433    8.329417\n",
       "318434    8.809714\n",
       "318435    8.351139\n",
       "318436    8.232440\n",
       "318437    8.466321\n",
       "Name: Admission_Deposit, Length: 318438, dtype: float64"
      ]
     },
     "execution_count": 38,
     "metadata": {},
     "output_type": "execute_result"
    }
   ],
   "source": [
    "np.log(df['Admission_Deposit'])"
   ]
  },
  {
   "cell_type": "code",
   "execution_count": 39,
   "metadata": {},
   "outputs": [
    {
     "data": {
      "text/plain": [
       "case_id                                 0\n",
       "Hospital_code                           0\n",
       "Hospital_type_code                      0\n",
       "City_Code_Hospital                      0\n",
       "Hospital_region_code                    0\n",
       "Available Extra Rooms in Hospital       0\n",
       "Department                              0\n",
       "Ward_Type                               0\n",
       "Ward_Facility_Code                      0\n",
       "Bed Grade                             113\n",
       "patientid                               0\n",
       "City_Code_Patient                    4532\n",
       "Type of Admission                       0\n",
       "Severity of Illness                     0\n",
       "Visitors with Patient                   0\n",
       "Age                                     0\n",
       "Admission_Deposit                       0\n",
       "Stay                                    0\n",
       "dtype: int64"
      ]
     },
     "execution_count": 39,
     "metadata": {},
     "output_type": "execute_result"
    }
   ],
   "source": [
    "df.isnull().sum()"
   ]
  },
  {
   "cell_type": "markdown",
   "metadata": {},
   "source": [
    "# 4.3 Fill Null Values"
   ]
  },
  {
   "cell_type": "code",
   "execution_count": 40,
   "metadata": {},
   "outputs": [],
   "source": [
    "df['Bed Grade'].fillna(df['Bed Grade'].median(),inplace = True)"
   ]
  },
  {
   "cell_type": "code",
   "execution_count": 41,
   "metadata": {},
   "outputs": [],
   "source": [
    "df['City_Code_Patient'].fillna(df['City_Code_Patient'].median(),inplace = True)"
   ]
  },
  {
   "cell_type": "code",
   "execution_count": 42,
   "metadata": {},
   "outputs": [
    {
     "data": {
      "text/plain": [
       "case_id                              0\n",
       "Hospital_code                        0\n",
       "Hospital_type_code                   0\n",
       "City_Code_Hospital                   0\n",
       "Hospital_region_code                 0\n",
       "Available Extra Rooms in Hospital    0\n",
       "Department                           0\n",
       "Ward_Type                            0\n",
       "Ward_Facility_Code                   0\n",
       "Bed Grade                            0\n",
       "patientid                            0\n",
       "City_Code_Patient                    0\n",
       "Type of Admission                    0\n",
       "Severity of Illness                  0\n",
       "Visitors with Patient                0\n",
       "Age                                  0\n",
       "Admission_Deposit                    0\n",
       "Stay                                 0\n",
       "dtype: int64"
      ]
     },
     "execution_count": 42,
     "metadata": {},
     "output_type": "execute_result"
    }
   ],
   "source": [
    "df.isnull().sum()"
   ]
  },
  {
   "cell_type": "code",
   "execution_count": 43,
   "metadata": {},
   "outputs": [
    {
     "name": "stdout",
     "output_type": "stream",
     "text": [
      "<class 'pandas.core.frame.DataFrame'>\n",
      "RangeIndex: 318438 entries, 0 to 318437\n",
      "Data columns (total 18 columns):\n",
      " #   Column                             Non-Null Count   Dtype  \n",
      "---  ------                             --------------   -----  \n",
      " 0   case_id                            318438 non-null  int64  \n",
      " 1   Hospital_code                      318438 non-null  int64  \n",
      " 2   Hospital_type_code                 318438 non-null  object \n",
      " 3   City_Code_Hospital                 318438 non-null  int64  \n",
      " 4   Hospital_region_code               318438 non-null  object \n",
      " 5   Available Extra Rooms in Hospital  318438 non-null  int64  \n",
      " 6   Department                         318438 non-null  object \n",
      " 7   Ward_Type                          318438 non-null  object \n",
      " 8   Ward_Facility_Code                 318438 non-null  object \n",
      " 9   Bed Grade                          318438 non-null  float64\n",
      " 10  patientid                          318438 non-null  int64  \n",
      " 11  City_Code_Patient                  318438 non-null  float64\n",
      " 12  Type of Admission                  318438 non-null  object \n",
      " 13  Severity of Illness                318438 non-null  object \n",
      " 14  Visitors with Patient              318438 non-null  int64  \n",
      " 15  Age                                318438 non-null  object \n",
      " 16  Admission_Deposit                  318438 non-null  int64  \n",
      " 17  Stay                               318438 non-null  object \n",
      "dtypes: float64(2), int64(7), object(9)\n",
      "memory usage: 43.7+ MB\n"
     ]
    }
   ],
   "source": [
    "df.info()"
   ]
  },
  {
   "cell_type": "code",
   "execution_count": 44,
   "metadata": {},
   "outputs": [
    {
     "name": "stdout",
     "output_type": "stream",
     "text": [
      "Cat features are : Index(['Hospital_type_code', 'Hospital_region_code', 'Department', 'Ward_Type',\n",
      "       'Ward_Facility_Code', 'Type of Admission', 'Severity of Illness', 'Age',\n",
      "       'Stay'],\n",
      "      dtype='object')\n"
     ]
    },
    {
     "data": {
      "text/plain": [
       "(None, 9)"
      ]
     },
     "execution_count": 44,
     "metadata": {},
     "output_type": "execute_result"
    }
   ],
   "source": [
    "cat_features = df.select_dtypes(include = 'object').columns\n",
    "print(\"Cat features are :\",cat_features),len(cat_features)"
   ]
  },
  {
   "cell_type": "code",
   "execution_count": 45,
   "metadata": {},
   "outputs": [],
   "source": [
    "from sklearn.preprocessing import LabelEncoder"
   ]
  },
  {
   "cell_type": "code",
   "execution_count": 46,
   "metadata": {},
   "outputs": [],
   "source": [
    "le = LabelEncoder()\n",
    "for feature in cat_features:\n",
    "    df[feature] = le.fit_transform(df[feature])"
   ]
  },
  {
   "cell_type": "code",
   "execution_count": 47,
   "metadata": {},
   "outputs": [
    {
     "data": {
      "text/html": [
       "<div>\n",
       "<style scoped>\n",
       "    .dataframe tbody tr th:only-of-type {\n",
       "        vertical-align: middle;\n",
       "    }\n",
       "\n",
       "    .dataframe tbody tr th {\n",
       "        vertical-align: top;\n",
       "    }\n",
       "\n",
       "    .dataframe thead th {\n",
       "        text-align: right;\n",
       "    }\n",
       "</style>\n",
       "<table border=\"1\" class=\"dataframe\">\n",
       "  <thead>\n",
       "    <tr style=\"text-align: right;\">\n",
       "      <th></th>\n",
       "      <th>case_id</th>\n",
       "      <th>Hospital_code</th>\n",
       "      <th>Hospital_type_code</th>\n",
       "      <th>City_Code_Hospital</th>\n",
       "      <th>Hospital_region_code</th>\n",
       "      <th>Available Extra Rooms in Hospital</th>\n",
       "      <th>Department</th>\n",
       "      <th>Ward_Type</th>\n",
       "      <th>Ward_Facility_Code</th>\n",
       "      <th>Bed Grade</th>\n",
       "      <th>patientid</th>\n",
       "      <th>City_Code_Patient</th>\n",
       "      <th>Type of Admission</th>\n",
       "      <th>Severity of Illness</th>\n",
       "      <th>Visitors with Patient</th>\n",
       "      <th>Age</th>\n",
       "      <th>Admission_Deposit</th>\n",
       "      <th>Stay</th>\n",
       "    </tr>\n",
       "  </thead>\n",
       "  <tbody>\n",
       "    <tr>\n",
       "      <th>0</th>\n",
       "      <td>1</td>\n",
       "      <td>8</td>\n",
       "      <td>2</td>\n",
       "      <td>3</td>\n",
       "      <td>2</td>\n",
       "      <td>3</td>\n",
       "      <td>3</td>\n",
       "      <td>2</td>\n",
       "      <td>5</td>\n",
       "      <td>2.0</td>\n",
       "      <td>31397</td>\n",
       "      <td>7.0</td>\n",
       "      <td>0</td>\n",
       "      <td>0</td>\n",
       "      <td>2</td>\n",
       "      <td>5</td>\n",
       "      <td>4911</td>\n",
       "      <td>0</td>\n",
       "    </tr>\n",
       "    <tr>\n",
       "      <th>1</th>\n",
       "      <td>2</td>\n",
       "      <td>2</td>\n",
       "      <td>2</td>\n",
       "      <td>5</td>\n",
       "      <td>2</td>\n",
       "      <td>2</td>\n",
       "      <td>3</td>\n",
       "      <td>3</td>\n",
       "      <td>5</td>\n",
       "      <td>2.0</td>\n",
       "      <td>31397</td>\n",
       "      <td>7.0</td>\n",
       "      <td>1</td>\n",
       "      <td>0</td>\n",
       "      <td>2</td>\n",
       "      <td>5</td>\n",
       "      <td>5954</td>\n",
       "      <td>4</td>\n",
       "    </tr>\n",
       "    <tr>\n",
       "      <th>2</th>\n",
       "      <td>3</td>\n",
       "      <td>10</td>\n",
       "      <td>4</td>\n",
       "      <td>1</td>\n",
       "      <td>0</td>\n",
       "      <td>2</td>\n",
       "      <td>1</td>\n",
       "      <td>3</td>\n",
       "      <td>4</td>\n",
       "      <td>2.0</td>\n",
       "      <td>31397</td>\n",
       "      <td>7.0</td>\n",
       "      <td>1</td>\n",
       "      <td>0</td>\n",
       "      <td>2</td>\n",
       "      <td>5</td>\n",
       "      <td>4745</td>\n",
       "      <td>3</td>\n",
       "    </tr>\n",
       "    <tr>\n",
       "      <th>3</th>\n",
       "      <td>4</td>\n",
       "      <td>26</td>\n",
       "      <td>1</td>\n",
       "      <td>2</td>\n",
       "      <td>1</td>\n",
       "      <td>2</td>\n",
       "      <td>3</td>\n",
       "      <td>2</td>\n",
       "      <td>3</td>\n",
       "      <td>2.0</td>\n",
       "      <td>31397</td>\n",
       "      <td>7.0</td>\n",
       "      <td>1</td>\n",
       "      <td>0</td>\n",
       "      <td>2</td>\n",
       "      <td>5</td>\n",
       "      <td>7272</td>\n",
       "      <td>4</td>\n",
       "    </tr>\n",
       "    <tr>\n",
       "      <th>4</th>\n",
       "      <td>5</td>\n",
       "      <td>26</td>\n",
       "      <td>1</td>\n",
       "      <td>2</td>\n",
       "      <td>1</td>\n",
       "      <td>2</td>\n",
       "      <td>3</td>\n",
       "      <td>3</td>\n",
       "      <td>3</td>\n",
       "      <td>2.0</td>\n",
       "      <td>31397</td>\n",
       "      <td>7.0</td>\n",
       "      <td>1</td>\n",
       "      <td>0</td>\n",
       "      <td>2</td>\n",
       "      <td>5</td>\n",
       "      <td>5558</td>\n",
       "      <td>4</td>\n",
       "    </tr>\n",
       "  </tbody>\n",
       "</table>\n",
       "</div>"
      ],
      "text/plain": [
       "   case_id  Hospital_code  Hospital_type_code  City_Code_Hospital  \\\n",
       "0        1              8                   2                   3   \n",
       "1        2              2                   2                   5   \n",
       "2        3             10                   4                   1   \n",
       "3        4             26                   1                   2   \n",
       "4        5             26                   1                   2   \n",
       "\n",
       "   Hospital_region_code  Available Extra Rooms in Hospital  Department  \\\n",
       "0                     2                                  3           3   \n",
       "1                     2                                  2           3   \n",
       "2                     0                                  2           1   \n",
       "3                     1                                  2           3   \n",
       "4                     1                                  2           3   \n",
       "\n",
       "   Ward_Type  Ward_Facility_Code  Bed Grade  patientid  City_Code_Patient  \\\n",
       "0          2                   5        2.0      31397                7.0   \n",
       "1          3                   5        2.0      31397                7.0   \n",
       "2          3                   4        2.0      31397                7.0   \n",
       "3          2                   3        2.0      31397                7.0   \n",
       "4          3                   3        2.0      31397                7.0   \n",
       "\n",
       "   Type of Admission  Severity of Illness  Visitors with Patient  Age  \\\n",
       "0                  0                    0                      2    5   \n",
       "1                  1                    0                      2    5   \n",
       "2                  1                    0                      2    5   \n",
       "3                  1                    0                      2    5   \n",
       "4                  1                    0                      2    5   \n",
       "\n",
       "   Admission_Deposit  Stay  \n",
       "0               4911     0  \n",
       "1               5954     4  \n",
       "2               4745     3  \n",
       "3               7272     4  \n",
       "4               5558     4  "
      ]
     },
     "execution_count": 47,
     "metadata": {},
     "output_type": "execute_result"
    }
   ],
   "source": [
    "df.head()"
   ]
  },
  {
   "cell_type": "code",
   "execution_count": 48,
   "metadata": {},
   "outputs": [
    {
     "data": {
      "text/plain": [
       "array([0, 2, 1])"
      ]
     },
     "execution_count": 48,
     "metadata": {},
     "output_type": "execute_result"
    }
   ],
   "source": [
    "df['Severity of Illness'].unique()"
   ]
  },
  {
   "cell_type": "markdown",
   "metadata": {},
   "source": [
    "## 4.3 Log Transform"
   ]
  },
  {
   "cell_type": "code",
   "execution_count": 49,
   "metadata": {},
   "outputs": [],
   "source": [
    "df['Admission_Deposit'] = np.log(df['Admission_Deposit'])"
   ]
  },
  {
   "cell_type": "markdown",
   "metadata": {},
   "source": [
    "# 5. Model Building"
   ]
  },
  {
   "cell_type": "code",
   "execution_count": 52,
   "metadata": {},
   "outputs": [],
   "source": [
    "x = df.drop('Stay',axis = 1)\n",
    "y = df['Stay']"
   ]
  },
  {
   "cell_type": "code",
   "execution_count": 55,
   "metadata": {},
   "outputs": [],
   "source": [
    "normal_scaler = MinMaxScaler()\n",
    "x_scaled = normal_scaler.fit_transform(x)\n",
    "x = pd.DataFrame(x_scaled, columns = x.columns)"
   ]
  },
  {
   "cell_type": "code",
   "execution_count": 56,
   "metadata": {},
   "outputs": [],
   "source": [
    "from sklearn.model_selection import train_test_split\n",
    "\n",
    "x_train,x_test, y_train, y_test = train_test_split(x,y,test_size=0.2,random_state=1)"
   ]
  },
  {
   "cell_type": "markdown",
   "metadata": {},
   "source": [
    "## 5.1 KNN"
   ]
  },
  {
   "cell_type": "code",
   "execution_count": 59,
   "metadata": {},
   "outputs": [],
   "source": [
    "knn_model = KNeighborsClassifier()"
   ]
  },
  {
   "cell_type": "code",
   "execution_count": 60,
   "metadata": {},
   "outputs": [
    {
     "data": {
      "text/plain": [
       "KNeighborsClassifier()"
      ]
     },
     "execution_count": 60,
     "metadata": {},
     "output_type": "execute_result"
    }
   ],
   "source": [
    "knn_model.fit(x_train, y_train)"
   ]
  },
  {
   "cell_type": "code",
   "execution_count": 61,
   "metadata": {},
   "outputs": [],
   "source": [
    "y_pred = knn_model.predict(x_test)"
   ]
  },
  {
   "cell_type": "code",
   "execution_count": 62,
   "metadata": {},
   "outputs": [
    {
     "data": {
      "text/plain": [
       "array([[ 768, 1929, 1329,  499,   29,  167,    3,   19,    4,    4,   10],\n",
       "       [1382, 7004, 4690, 1754,  110,  584,    8,   71,   15,    8,   28],\n",
       "       [1199, 5884, 7470, 1945,  136,  692,   12,   84,   18,   11,   29],\n",
       "       [ 821, 3754, 3701, 1709,   91,  732,   11,   81,   25,    9,   39],\n",
       "       [ 184,  679, 1034,  288,   36,  115,    4,   22,    2,    3,   10],\n",
       "       [ 534, 2044, 1945, 1196,   40,  984,    5,  108,   30,   15,   42],\n",
       "       [  40,  158,  211,   85,    7,   40,    5,    8,    1,    1,    3],\n",
       "       [ 165,  572,  573,  329,   21,  283,    1,   69,   14,    5,   26],\n",
       "       [  80,  290,  218,  177,    4,  165,    1,   28,   26,    2,   23],\n",
       "       [  41,  126,  134,  110,    8,   84,    0,   15,    2,   14,    6],\n",
       "       [  80,  267,  242,  216,   19,  200,    1,   28,   31,   10,  235]])"
      ]
     },
     "execution_count": 62,
     "metadata": {},
     "output_type": "execute_result"
    }
   ],
   "source": [
    "confusion_matrix(y_test, y_pred)"
   ]
  },
  {
   "cell_type": "code",
   "execution_count": 63,
   "metadata": {},
   "outputs": [
    {
     "name": "stdout",
     "output_type": "stream",
     "text": [
      "              precision    recall  f1-score   support\n",
      "\n",
      "           0       0.15      0.16      0.15      4761\n",
      "           1       0.31      0.45      0.37     15654\n",
      "           2       0.35      0.43      0.38     17480\n",
      "           3       0.21      0.16      0.18     10973\n",
      "           4       0.07      0.02      0.03      2377\n",
      "           5       0.24      0.14      0.18      6943\n",
      "           6       0.10      0.01      0.02       559\n",
      "           7       0.13      0.03      0.05      2058\n",
      "           8       0.15      0.03      0.04      1014\n",
      "           9       0.17      0.03      0.05       540\n",
      "          10       0.52      0.18      0.26      1329\n",
      "\n",
      "    accuracy                           0.29     63688\n",
      "   macro avg       0.22      0.15      0.15     63688\n",
      "weighted avg       0.27      0.29      0.27     63688\n",
      "\n"
     ]
    }
   ],
   "source": [
    "cls_report = classification_report(y_test, y_pred)\n",
    "print(cls_report)"
   ]
  },
  {
   "cell_type": "markdown",
   "metadata": {},
   "source": [
    "### Feature Selection Using Correlation coeff"
   ]
  },
  {
   "cell_type": "code",
   "execution_count": 66,
   "metadata": {},
   "outputs": [],
   "source": [
    "corr_matrix = df.corr()"
   ]
  },
  {
   "cell_type": "code",
   "execution_count": 67,
   "metadata": {},
   "outputs": [
    {
     "data": {
      "text/html": [
       "<div>\n",
       "<style scoped>\n",
       "    .dataframe tbody tr th:only-of-type {\n",
       "        vertical-align: middle;\n",
       "    }\n",
       "\n",
       "    .dataframe tbody tr th {\n",
       "        vertical-align: top;\n",
       "    }\n",
       "\n",
       "    .dataframe thead th {\n",
       "        text-align: right;\n",
       "    }\n",
       "</style>\n",
       "<table border=\"1\" class=\"dataframe\">\n",
       "  <thead>\n",
       "    <tr style=\"text-align: right;\">\n",
       "      <th></th>\n",
       "      <th>case_id</th>\n",
       "      <th>Hospital_code</th>\n",
       "      <th>Hospital_type_code</th>\n",
       "      <th>City_Code_Hospital</th>\n",
       "      <th>Hospital_region_code</th>\n",
       "      <th>Available Extra Rooms in Hospital</th>\n",
       "      <th>Department</th>\n",
       "      <th>Ward_Type</th>\n",
       "      <th>Ward_Facility_Code</th>\n",
       "      <th>Bed Grade</th>\n",
       "      <th>patientid</th>\n",
       "      <th>City_Code_Patient</th>\n",
       "      <th>Type of Admission</th>\n",
       "      <th>Severity of Illness</th>\n",
       "      <th>Visitors with Patient</th>\n",
       "      <th>Age</th>\n",
       "      <th>Admission_Deposit</th>\n",
       "      <th>Stay</th>\n",
       "    </tr>\n",
       "  </thead>\n",
       "  <tbody>\n",
       "    <tr>\n",
       "      <th>case_id</th>\n",
       "      <td>1.000000</td>\n",
       "      <td>-0.043023</td>\n",
       "      <td>0.001877</td>\n",
       "      <td>-0.011352</td>\n",
       "      <td>0.006262</td>\n",
       "      <td>0.042580</td>\n",
       "      <td>-0.002175</td>\n",
       "      <td>-0.029183</td>\n",
       "      <td>-0.011546</td>\n",
       "      <td>0.013691</td>\n",
       "      <td>-0.004150</td>\n",
       "      <td>0.065207</td>\n",
       "      <td>0.076789</td>\n",
       "      <td>0.013935</td>\n",
       "      <td>0.001309</td>\n",
       "      <td>-0.114694</td>\n",
       "      <td>-0.054562</td>\n",
       "      <td>-0.053882</td>\n",
       "    </tr>\n",
       "    <tr>\n",
       "      <th>Hospital_code</th>\n",
       "      <td>-0.043023</td>\n",
       "      <td>1.000000</td>\n",
       "      <td>0.039449</td>\n",
       "      <td>0.128294</td>\n",
       "      <td>-0.135920</td>\n",
       "      <td>-0.059638</td>\n",
       "      <td>0.000777</td>\n",
       "      <td>0.161108</td>\n",
       "      <td>-0.132347</td>\n",
       "      <td>-0.013948</td>\n",
       "      <td>0.002291</td>\n",
       "      <td>-0.015477</td>\n",
       "      <td>-0.014268</td>\n",
       "      <td>-0.007585</td>\n",
       "      <td>-0.028500</td>\n",
       "      <td>0.016322</td>\n",
       "      <td>0.046983</td>\n",
       "      <td>0.042846</td>\n",
       "    </tr>\n",
       "    <tr>\n",
       "      <th>Hospital_type_code</th>\n",
       "      <td>0.001877</td>\n",
       "      <td>0.039449</td>\n",
       "      <td>1.000000</td>\n",
       "      <td>-0.000839</td>\n",
       "      <td>0.268962</td>\n",
       "      <td>-0.103044</td>\n",
       "      <td>0.001768</td>\n",
       "      <td>0.246347</td>\n",
       "      <td>-0.265768</td>\n",
       "      <td>0.018642</td>\n",
       "      <td>-0.003010</td>\n",
       "      <td>0.055272</td>\n",
       "      <td>0.080073</td>\n",
       "      <td>-0.004625</td>\n",
       "      <td>-0.045213</td>\n",
       "      <td>0.006030</td>\n",
       "      <td>0.028790</td>\n",
       "      <td>0.058592</td>\n",
       "    </tr>\n",
       "    <tr>\n",
       "      <th>City_Code_Hospital</th>\n",
       "      <td>-0.011352</td>\n",
       "      <td>0.128294</td>\n",
       "      <td>-0.000839</td>\n",
       "      <td>1.000000</td>\n",
       "      <td>0.008311</td>\n",
       "      <td>-0.045771</td>\n",
       "      <td>0.029308</td>\n",
       "      <td>0.122285</td>\n",
       "      <td>-0.100474</td>\n",
       "      <td>-0.049248</td>\n",
       "      <td>0.000750</td>\n",
       "      <td>-0.024161</td>\n",
       "      <td>-0.015547</td>\n",
       "      <td>-0.000018</td>\n",
       "      <td>0.018184</td>\n",
       "      <td>0.020507</td>\n",
       "      <td>-0.036701</td>\n",
       "      <td>0.006381</td>\n",
       "    </tr>\n",
       "    <tr>\n",
       "      <th>Hospital_region_code</th>\n",
       "      <td>0.006262</td>\n",
       "      <td>-0.135920</td>\n",
       "      <td>0.268962</td>\n",
       "      <td>0.008311</td>\n",
       "      <td>1.000000</td>\n",
       "      <td>-0.006906</td>\n",
       "      <td>0.041499</td>\n",
       "      <td>0.077769</td>\n",
       "      <td>-0.507350</td>\n",
       "      <td>-0.042680</td>\n",
       "      <td>-0.002083</td>\n",
       "      <td>0.150714</td>\n",
       "      <td>0.005602</td>\n",
       "      <td>-0.006067</td>\n",
       "      <td>-0.019485</td>\n",
       "      <td>-0.017083</td>\n",
       "      <td>0.079653</td>\n",
       "      <td>0.011905</td>\n",
       "    </tr>\n",
       "    <tr>\n",
       "      <th>Available Extra Rooms in Hospital</th>\n",
       "      <td>0.042580</td>\n",
       "      <td>-0.059638</td>\n",
       "      <td>-0.103044</td>\n",
       "      <td>-0.045771</td>\n",
       "      <td>-0.006906</td>\n",
       "      <td>1.000000</td>\n",
       "      <td>0.047726</td>\n",
       "      <td>-0.433849</td>\n",
       "      <td>0.050453</td>\n",
       "      <td>-0.115804</td>\n",
       "      <td>0.000921</td>\n",
       "      <td>-0.009462</td>\n",
       "      <td>-0.016498</td>\n",
       "      <td>0.015053</td>\n",
       "      <td>0.096714</td>\n",
       "      <td>-0.133491</td>\n",
       "      <td>-0.151937</td>\n",
       "      <td>-0.121120</td>\n",
       "    </tr>\n",
       "    <tr>\n",
       "      <th>Department</th>\n",
       "      <td>-0.002175</td>\n",
       "      <td>0.000777</td>\n",
       "      <td>0.001768</td>\n",
       "      <td>0.029308</td>\n",
       "      <td>0.041499</td>\n",
       "      <td>0.047726</td>\n",
       "      <td>1.000000</td>\n",
       "      <td>-0.005972</td>\n",
       "      <td>-0.040371</td>\n",
       "      <td>-0.096745</td>\n",
       "      <td>0.002217</td>\n",
       "      <td>0.019500</td>\n",
       "      <td>-0.080768</td>\n",
       "      <td>-0.008075</td>\n",
       "      <td>0.026054</td>\n",
       "      <td>0.035518</td>\n",
       "      <td>-0.078673</td>\n",
       "      <td>0.033287</td>\n",
       "    </tr>\n",
       "    <tr>\n",
       "      <th>Ward_Type</th>\n",
       "      <td>-0.029183</td>\n",
       "      <td>0.161108</td>\n",
       "      <td>0.246347</td>\n",
       "      <td>0.122285</td>\n",
       "      <td>0.077769</td>\n",
       "      <td>-0.433849</td>\n",
       "      <td>-0.005972</td>\n",
       "      <td>1.000000</td>\n",
       "      <td>-0.155031</td>\n",
       "      <td>-0.013484</td>\n",
       "      <td>0.000615</td>\n",
       "      <td>0.015692</td>\n",
       "      <td>0.012701</td>\n",
       "      <td>0.001503</td>\n",
       "      <td>-0.096451</td>\n",
       "      <td>0.024332</td>\n",
       "      <td>0.050585</td>\n",
       "      <td>0.185191</td>\n",
       "    </tr>\n",
       "    <tr>\n",
       "      <th>Ward_Facility_Code</th>\n",
       "      <td>-0.011546</td>\n",
       "      <td>-0.132347</td>\n",
       "      <td>-0.265768</td>\n",
       "      <td>-0.100474</td>\n",
       "      <td>-0.507350</td>\n",
       "      <td>0.050453</td>\n",
       "      <td>-0.040371</td>\n",
       "      <td>-0.155031</td>\n",
       "      <td>1.000000</td>\n",
       "      <td>0.075984</td>\n",
       "      <td>0.001923</td>\n",
       "      <td>-0.139691</td>\n",
       "      <td>0.043242</td>\n",
       "      <td>0.014844</td>\n",
       "      <td>0.022088</td>\n",
       "      <td>-0.000417</td>\n",
       "      <td>-0.027063</td>\n",
       "      <td>-0.004552</td>\n",
       "    </tr>\n",
       "    <tr>\n",
       "      <th>Bed Grade</th>\n",
       "      <td>0.013691</td>\n",
       "      <td>-0.013948</td>\n",
       "      <td>0.018642</td>\n",
       "      <td>-0.049248</td>\n",
       "      <td>-0.042680</td>\n",
       "      <td>-0.115804</td>\n",
       "      <td>-0.096745</td>\n",
       "      <td>-0.013484</td>\n",
       "      <td>0.075984</td>\n",
       "      <td>1.000000</td>\n",
       "      <td>0.001638</td>\n",
       "      <td>-0.007581</td>\n",
       "      <td>0.126075</td>\n",
       "      <td>0.049951</td>\n",
       "      <td>0.088920</td>\n",
       "      <td>0.001717</td>\n",
       "      <td>0.072516</td>\n",
       "      <td>0.025761</td>\n",
       "    </tr>\n",
       "    <tr>\n",
       "      <th>patientid</th>\n",
       "      <td>-0.004150</td>\n",
       "      <td>0.002291</td>\n",
       "      <td>-0.003010</td>\n",
       "      <td>0.000750</td>\n",
       "      <td>-0.002083</td>\n",
       "      <td>0.000921</td>\n",
       "      <td>0.002217</td>\n",
       "      <td>0.000615</td>\n",
       "      <td>0.001923</td>\n",
       "      <td>0.001638</td>\n",
       "      <td>1.000000</td>\n",
       "      <td>0.002009</td>\n",
       "      <td>0.002498</td>\n",
       "      <td>0.004444</td>\n",
       "      <td>0.006889</td>\n",
       "      <td>-0.001505</td>\n",
       "      <td>-0.000992</td>\n",
       "      <td>0.001125</td>\n",
       "    </tr>\n",
       "    <tr>\n",
       "      <th>City_Code_Patient</th>\n",
       "      <td>0.065207</td>\n",
       "      <td>-0.015477</td>\n",
       "      <td>0.055272</td>\n",
       "      <td>-0.024161</td>\n",
       "      <td>0.150714</td>\n",
       "      <td>-0.009462</td>\n",
       "      <td>0.019500</td>\n",
       "      <td>0.015692</td>\n",
       "      <td>-0.139691</td>\n",
       "      <td>-0.007581</td>\n",
       "      <td>0.002009</td>\n",
       "      <td>1.000000</td>\n",
       "      <td>-0.026921</td>\n",
       "      <td>-0.007774</td>\n",
       "      <td>-0.011677</td>\n",
       "      <td>-0.016282</td>\n",
       "      <td>0.028934</td>\n",
       "      <td>-0.009447</td>\n",
       "    </tr>\n",
       "    <tr>\n",
       "      <th>Type of Admission</th>\n",
       "      <td>0.076789</td>\n",
       "      <td>-0.014268</td>\n",
       "      <td>0.080073</td>\n",
       "      <td>-0.015547</td>\n",
       "      <td>0.005602</td>\n",
       "      <td>-0.016498</td>\n",
       "      <td>-0.080768</td>\n",
       "      <td>0.012701</td>\n",
       "      <td>0.043242</td>\n",
       "      <td>0.126075</td>\n",
       "      <td>0.002498</td>\n",
       "      <td>-0.026921</td>\n",
       "      <td>1.000000</td>\n",
       "      <td>0.011542</td>\n",
       "      <td>-0.097966</td>\n",
       "      <td>-0.063396</td>\n",
       "      <td>0.041875</td>\n",
       "      <td>0.023617</td>\n",
       "    </tr>\n",
       "    <tr>\n",
       "      <th>Severity of Illness</th>\n",
       "      <td>0.013935</td>\n",
       "      <td>-0.007585</td>\n",
       "      <td>-0.004625</td>\n",
       "      <td>-0.000018</td>\n",
       "      <td>-0.006067</td>\n",
       "      <td>0.015053</td>\n",
       "      <td>-0.008075</td>\n",
       "      <td>0.001503</td>\n",
       "      <td>0.014844</td>\n",
       "      <td>0.049951</td>\n",
       "      <td>0.004444</td>\n",
       "      <td>-0.007774</td>\n",
       "      <td>0.011542</td>\n",
       "      <td>1.000000</td>\n",
       "      <td>-0.020670</td>\n",
       "      <td>-0.036090</td>\n",
       "      <td>0.026346</td>\n",
       "      <td>-0.031188</td>\n",
       "    </tr>\n",
       "    <tr>\n",
       "      <th>Visitors with Patient</th>\n",
       "      <td>0.001309</td>\n",
       "      <td>-0.028500</td>\n",
       "      <td>-0.045213</td>\n",
       "      <td>0.018184</td>\n",
       "      <td>-0.019485</td>\n",
       "      <td>0.096714</td>\n",
       "      <td>0.026054</td>\n",
       "      <td>-0.096451</td>\n",
       "      <td>0.022088</td>\n",
       "      <td>0.088920</td>\n",
       "      <td>0.006889</td>\n",
       "      <td>-0.011677</td>\n",
       "      <td>-0.097966</td>\n",
       "      <td>-0.020670</td>\n",
       "      <td>1.000000</td>\n",
       "      <td>0.073795</td>\n",
       "      <td>-0.186392</td>\n",
       "      <td>0.537537</td>\n",
       "    </tr>\n",
       "    <tr>\n",
       "      <th>Age</th>\n",
       "      <td>-0.114694</td>\n",
       "      <td>0.016322</td>\n",
       "      <td>0.006030</td>\n",
       "      <td>0.020507</td>\n",
       "      <td>-0.017083</td>\n",
       "      <td>-0.133491</td>\n",
       "      <td>0.035518</td>\n",
       "      <td>0.024332</td>\n",
       "      <td>-0.000417</td>\n",
       "      <td>0.001717</td>\n",
       "      <td>-0.001505</td>\n",
       "      <td>-0.016282</td>\n",
       "      <td>-0.063396</td>\n",
       "      <td>-0.036090</td>\n",
       "      <td>0.073795</td>\n",
       "      <td>1.000000</td>\n",
       "      <td>0.027364</td>\n",
       "      <td>0.094163</td>\n",
       "    </tr>\n",
       "    <tr>\n",
       "      <th>Admission_Deposit</th>\n",
       "      <td>-0.054562</td>\n",
       "      <td>0.046983</td>\n",
       "      <td>0.028790</td>\n",
       "      <td>-0.036701</td>\n",
       "      <td>0.079653</td>\n",
       "      <td>-0.151937</td>\n",
       "      <td>-0.078673</td>\n",
       "      <td>0.050585</td>\n",
       "      <td>-0.027063</td>\n",
       "      <td>0.072516</td>\n",
       "      <td>-0.000992</td>\n",
       "      <td>0.028934</td>\n",
       "      <td>0.041875</td>\n",
       "      <td>0.026346</td>\n",
       "      <td>-0.186392</td>\n",
       "      <td>0.027364</td>\n",
       "      <td>1.000000</td>\n",
       "      <td>-0.073908</td>\n",
       "    </tr>\n",
       "    <tr>\n",
       "      <th>Stay</th>\n",
       "      <td>-0.053882</td>\n",
       "      <td>0.042846</td>\n",
       "      <td>0.058592</td>\n",
       "      <td>0.006381</td>\n",
       "      <td>0.011905</td>\n",
       "      <td>-0.121120</td>\n",
       "      <td>0.033287</td>\n",
       "      <td>0.185191</td>\n",
       "      <td>-0.004552</td>\n",
       "      <td>0.025761</td>\n",
       "      <td>0.001125</td>\n",
       "      <td>-0.009447</td>\n",
       "      <td>0.023617</td>\n",
       "      <td>-0.031188</td>\n",
       "      <td>0.537537</td>\n",
       "      <td>0.094163</td>\n",
       "      <td>-0.073908</td>\n",
       "      <td>1.000000</td>\n",
       "    </tr>\n",
       "  </tbody>\n",
       "</table>\n",
       "</div>"
      ],
      "text/plain": [
       "                                    case_id  Hospital_code  \\\n",
       "case_id                            1.000000      -0.043023   \n",
       "Hospital_code                     -0.043023       1.000000   \n",
       "Hospital_type_code                 0.001877       0.039449   \n",
       "City_Code_Hospital                -0.011352       0.128294   \n",
       "Hospital_region_code               0.006262      -0.135920   \n",
       "Available Extra Rooms in Hospital  0.042580      -0.059638   \n",
       "Department                        -0.002175       0.000777   \n",
       "Ward_Type                         -0.029183       0.161108   \n",
       "Ward_Facility_Code                -0.011546      -0.132347   \n",
       "Bed Grade                          0.013691      -0.013948   \n",
       "patientid                         -0.004150       0.002291   \n",
       "City_Code_Patient                  0.065207      -0.015477   \n",
       "Type of Admission                  0.076789      -0.014268   \n",
       "Severity of Illness                0.013935      -0.007585   \n",
       "Visitors with Patient              0.001309      -0.028500   \n",
       "Age                               -0.114694       0.016322   \n",
       "Admission_Deposit                 -0.054562       0.046983   \n",
       "Stay                              -0.053882       0.042846   \n",
       "\n",
       "                                   Hospital_type_code  City_Code_Hospital  \\\n",
       "case_id                                      0.001877           -0.011352   \n",
       "Hospital_code                                0.039449            0.128294   \n",
       "Hospital_type_code                           1.000000           -0.000839   \n",
       "City_Code_Hospital                          -0.000839            1.000000   \n",
       "Hospital_region_code                         0.268962            0.008311   \n",
       "Available Extra Rooms in Hospital           -0.103044           -0.045771   \n",
       "Department                                   0.001768            0.029308   \n",
       "Ward_Type                                    0.246347            0.122285   \n",
       "Ward_Facility_Code                          -0.265768           -0.100474   \n",
       "Bed Grade                                    0.018642           -0.049248   \n",
       "patientid                                   -0.003010            0.000750   \n",
       "City_Code_Patient                            0.055272           -0.024161   \n",
       "Type of Admission                            0.080073           -0.015547   \n",
       "Severity of Illness                         -0.004625           -0.000018   \n",
       "Visitors with Patient                       -0.045213            0.018184   \n",
       "Age                                          0.006030            0.020507   \n",
       "Admission_Deposit                            0.028790           -0.036701   \n",
       "Stay                                         0.058592            0.006381   \n",
       "\n",
       "                                   Hospital_region_code  \\\n",
       "case_id                                        0.006262   \n",
       "Hospital_code                                 -0.135920   \n",
       "Hospital_type_code                             0.268962   \n",
       "City_Code_Hospital                             0.008311   \n",
       "Hospital_region_code                           1.000000   \n",
       "Available Extra Rooms in Hospital             -0.006906   \n",
       "Department                                     0.041499   \n",
       "Ward_Type                                      0.077769   \n",
       "Ward_Facility_Code                            -0.507350   \n",
       "Bed Grade                                     -0.042680   \n",
       "patientid                                     -0.002083   \n",
       "City_Code_Patient                              0.150714   \n",
       "Type of Admission                              0.005602   \n",
       "Severity of Illness                           -0.006067   \n",
       "Visitors with Patient                         -0.019485   \n",
       "Age                                           -0.017083   \n",
       "Admission_Deposit                              0.079653   \n",
       "Stay                                           0.011905   \n",
       "\n",
       "                                   Available Extra Rooms in Hospital  \\\n",
       "case_id                                                     0.042580   \n",
       "Hospital_code                                              -0.059638   \n",
       "Hospital_type_code                                         -0.103044   \n",
       "City_Code_Hospital                                         -0.045771   \n",
       "Hospital_region_code                                       -0.006906   \n",
       "Available Extra Rooms in Hospital                           1.000000   \n",
       "Department                                                  0.047726   \n",
       "Ward_Type                                                  -0.433849   \n",
       "Ward_Facility_Code                                          0.050453   \n",
       "Bed Grade                                                  -0.115804   \n",
       "patientid                                                   0.000921   \n",
       "City_Code_Patient                                          -0.009462   \n",
       "Type of Admission                                          -0.016498   \n",
       "Severity of Illness                                         0.015053   \n",
       "Visitors with Patient                                       0.096714   \n",
       "Age                                                        -0.133491   \n",
       "Admission_Deposit                                          -0.151937   \n",
       "Stay                                                       -0.121120   \n",
       "\n",
       "                                   Department  Ward_Type  Ward_Facility_Code  \\\n",
       "case_id                             -0.002175  -0.029183           -0.011546   \n",
       "Hospital_code                        0.000777   0.161108           -0.132347   \n",
       "Hospital_type_code                   0.001768   0.246347           -0.265768   \n",
       "City_Code_Hospital                   0.029308   0.122285           -0.100474   \n",
       "Hospital_region_code                 0.041499   0.077769           -0.507350   \n",
       "Available Extra Rooms in Hospital    0.047726  -0.433849            0.050453   \n",
       "Department                           1.000000  -0.005972           -0.040371   \n",
       "Ward_Type                           -0.005972   1.000000           -0.155031   \n",
       "Ward_Facility_Code                  -0.040371  -0.155031            1.000000   \n",
       "Bed Grade                           -0.096745  -0.013484            0.075984   \n",
       "patientid                            0.002217   0.000615            0.001923   \n",
       "City_Code_Patient                    0.019500   0.015692           -0.139691   \n",
       "Type of Admission                   -0.080768   0.012701            0.043242   \n",
       "Severity of Illness                 -0.008075   0.001503            0.014844   \n",
       "Visitors with Patient                0.026054  -0.096451            0.022088   \n",
       "Age                                  0.035518   0.024332           -0.000417   \n",
       "Admission_Deposit                   -0.078673   0.050585           -0.027063   \n",
       "Stay                                 0.033287   0.185191           -0.004552   \n",
       "\n",
       "                                   Bed Grade  patientid  City_Code_Patient  \\\n",
       "case_id                             0.013691  -0.004150           0.065207   \n",
       "Hospital_code                      -0.013948   0.002291          -0.015477   \n",
       "Hospital_type_code                  0.018642  -0.003010           0.055272   \n",
       "City_Code_Hospital                 -0.049248   0.000750          -0.024161   \n",
       "Hospital_region_code               -0.042680  -0.002083           0.150714   \n",
       "Available Extra Rooms in Hospital  -0.115804   0.000921          -0.009462   \n",
       "Department                         -0.096745   0.002217           0.019500   \n",
       "Ward_Type                          -0.013484   0.000615           0.015692   \n",
       "Ward_Facility_Code                  0.075984   0.001923          -0.139691   \n",
       "Bed Grade                           1.000000   0.001638          -0.007581   \n",
       "patientid                           0.001638   1.000000           0.002009   \n",
       "City_Code_Patient                  -0.007581   0.002009           1.000000   \n",
       "Type of Admission                   0.126075   0.002498          -0.026921   \n",
       "Severity of Illness                 0.049951   0.004444          -0.007774   \n",
       "Visitors with Patient               0.088920   0.006889          -0.011677   \n",
       "Age                                 0.001717  -0.001505          -0.016282   \n",
       "Admission_Deposit                   0.072516  -0.000992           0.028934   \n",
       "Stay                                0.025761   0.001125          -0.009447   \n",
       "\n",
       "                                   Type of Admission  Severity of Illness  \\\n",
       "case_id                                     0.076789             0.013935   \n",
       "Hospital_code                              -0.014268            -0.007585   \n",
       "Hospital_type_code                          0.080073            -0.004625   \n",
       "City_Code_Hospital                         -0.015547            -0.000018   \n",
       "Hospital_region_code                        0.005602            -0.006067   \n",
       "Available Extra Rooms in Hospital          -0.016498             0.015053   \n",
       "Department                                 -0.080768            -0.008075   \n",
       "Ward_Type                                   0.012701             0.001503   \n",
       "Ward_Facility_Code                          0.043242             0.014844   \n",
       "Bed Grade                                   0.126075             0.049951   \n",
       "patientid                                   0.002498             0.004444   \n",
       "City_Code_Patient                          -0.026921            -0.007774   \n",
       "Type of Admission                           1.000000             0.011542   \n",
       "Severity of Illness                         0.011542             1.000000   \n",
       "Visitors with Patient                      -0.097966            -0.020670   \n",
       "Age                                        -0.063396            -0.036090   \n",
       "Admission_Deposit                           0.041875             0.026346   \n",
       "Stay                                        0.023617            -0.031188   \n",
       "\n",
       "                                   Visitors with Patient       Age  \\\n",
       "case_id                                         0.001309 -0.114694   \n",
       "Hospital_code                                  -0.028500  0.016322   \n",
       "Hospital_type_code                             -0.045213  0.006030   \n",
       "City_Code_Hospital                              0.018184  0.020507   \n",
       "Hospital_region_code                           -0.019485 -0.017083   \n",
       "Available Extra Rooms in Hospital               0.096714 -0.133491   \n",
       "Department                                      0.026054  0.035518   \n",
       "Ward_Type                                      -0.096451  0.024332   \n",
       "Ward_Facility_Code                              0.022088 -0.000417   \n",
       "Bed Grade                                       0.088920  0.001717   \n",
       "patientid                                       0.006889 -0.001505   \n",
       "City_Code_Patient                              -0.011677 -0.016282   \n",
       "Type of Admission                              -0.097966 -0.063396   \n",
       "Severity of Illness                            -0.020670 -0.036090   \n",
       "Visitors with Patient                           1.000000  0.073795   \n",
       "Age                                             0.073795  1.000000   \n",
       "Admission_Deposit                              -0.186392  0.027364   \n",
       "Stay                                            0.537537  0.094163   \n",
       "\n",
       "                                   Admission_Deposit      Stay  \n",
       "case_id                                    -0.054562 -0.053882  \n",
       "Hospital_code                               0.046983  0.042846  \n",
       "Hospital_type_code                          0.028790  0.058592  \n",
       "City_Code_Hospital                         -0.036701  0.006381  \n",
       "Hospital_region_code                        0.079653  0.011905  \n",
       "Available Extra Rooms in Hospital          -0.151937 -0.121120  \n",
       "Department                                 -0.078673  0.033287  \n",
       "Ward_Type                                   0.050585  0.185191  \n",
       "Ward_Facility_Code                         -0.027063 -0.004552  \n",
       "Bed Grade                                   0.072516  0.025761  \n",
       "patientid                                  -0.000992  0.001125  \n",
       "City_Code_Patient                           0.028934 -0.009447  \n",
       "Type of Admission                           0.041875  0.023617  \n",
       "Severity of Illness                         0.026346 -0.031188  \n",
       "Visitors with Patient                      -0.186392  0.537537  \n",
       "Age                                         0.027364  0.094163  \n",
       "Admission_Deposit                           1.000000 -0.073908  \n",
       "Stay                                       -0.073908  1.000000  "
      ]
     },
     "execution_count": 67,
     "metadata": {},
     "output_type": "execute_result"
    }
   ],
   "source": [
    "corr_matrix"
   ]
  },
  {
   "cell_type": "markdown",
   "metadata": {},
   "source": [
    "# KNN "
   ]
  },
  {
   "cell_type": "code",
   "execution_count": null,
   "metadata": {},
   "outputs": [],
   "source": [
    "Without Scaling\n",
    "\n",
    "# Standard Scaler\n",
    "# MinMax Scaler\n",
    "\n",
    "With Scaling\n",
    "\n",
    "With Hyper Parameter Tuning \n",
    "\n",
    "# Randomized Search CV\n",
    "# 1,10"
   ]
  },
  {
   "cell_type": "markdown",
   "metadata": {},
   "source": [
    "# Decision Tree Algorithm"
   ]
  },
  {
   "cell_type": "code",
   "execution_count": null,
   "metadata": {},
   "outputs": [],
   "source": [
    "With Hyper Parameter Tuning \n",
    "\n",
    "# Randomized Search CV\n",
    "# 1,10"
   ]
  },
  {
   "cell_type": "markdown",
   "metadata": {},
   "source": [
    "# Random Forest Algorithm"
   ]
  },
  {
   "cell_type": "code",
   "execution_count": null,
   "metadata": {},
   "outputs": [],
   "source": []
  },
  {
   "cell_type": "markdown",
   "metadata": {},
   "source": [
    "# AdaBoost"
   ]
  },
  {
   "cell_type": "markdown",
   "metadata": {},
   "source": [
    "# XGBoost"
   ]
  },
  {
   "cell_type": "code",
   "execution_count": null,
   "metadata": {},
   "outputs": [],
   "source": []
  },
  {
   "cell_type": "markdown",
   "metadata": {},
   "source": [
    "# Improve model Accuracy"
   ]
  },
  {
   "cell_type": "code",
   "execution_count": 137,
   "metadata": {},
   "outputs": [],
   "source": [
    "# SMOTE(Stnthetic Minority Oversampling Technqiue)"
   ]
  },
  {
   "cell_type": "code",
   "execution_count": null,
   "metadata": {},
   "outputs": [],
   "source": [
    "Log\n",
    "DT\n",
    "Recall "
   ]
  },
  {
   "cell_type": "code",
   "execution_count": 138,
   "metadata": {},
   "outputs": [],
   "source": [
    "from imblearn.over_sampling import SMOTE"
   ]
  },
  {
   "cell_type": "code",
   "execution_count": 152,
   "metadata": {},
   "outputs": [],
   "source": [
    "sm = SMOTE(random_state=1)\n",
    "x_sm,y_sm = sm.fit_resample(x,y.ravel())"
   ]
  },
  {
   "cell_type": "code",
   "execution_count": 149,
   "metadata": {},
   "outputs": [
    {
     "data": {
      "text/plain": [
       "200956"
      ]
     },
     "execution_count": 149,
     "metadata": {},
     "output_type": "execute_result"
    }
   ],
   "source": [
    "len(y_sm)"
   ]
  },
  {
   "cell_type": "code",
   "execution_count": 150,
   "metadata": {},
   "outputs": [
    {
     "data": {
      "text/plain": [
       "66985"
      ]
     },
     "execution_count": 150,
     "metadata": {},
     "output_type": "execute_result"
    }
   ],
   "source": [
    "sum(y_sm == 1)"
   ]
  },
  {
   "cell_type": "code",
   "execution_count": 151,
   "metadata": {},
   "outputs": [
    {
     "data": {
      "text/plain": [
       "133971"
      ]
     },
     "execution_count": 151,
     "metadata": {},
     "output_type": "execute_result"
    }
   ],
   "source": [
    "sum(y_sm == 0)"
   ]
  },
  {
   "cell_type": "raw",
   "metadata": {},
   "source": [
    "1) Outliers detection and removal\n",
    "https://kanoki.org/2020/04/23/how-to-remove-outliers-in-python/\n",
    "https://towardsdatascience.com/ways-to-detect-and-remove-the-outliers-404d16608dbaLinks for extra:\n",
    "https://www.geeksforgeeks.org/detect-and-remove-the-outliers-using-python/\n",
    "\n",
    "2) Hyper parameter tunning\n",
    "https://scikit-learn.org/stable/modules/grid_search.html\n",
    "\n",
    "3) Dealing with imbalanced dataset\n",
    "https://www.analyticsvidhya.com/blog/2020/07/10-techniques-to-deal-with-class-imbalance-in-machine-learning/\n",
    "https://www.analyticsvidhya.com/blog/2017/03/imbalanced-data-classification/"
   ]
  }
 ],
 "metadata": {
  "kernelspec": {
   "display_name": "Python 3",
   "language": "python",
   "name": "python3"
  },
  "language_info": {
   "codemirror_mode": {
    "name": "ipython",
    "version": 3
   },
   "file_extension": ".py",
   "mimetype": "text/x-python",
   "name": "python",
   "nbconvert_exporter": "python",
   "pygments_lexer": "ipython3",
   "version": "3.8.5"
  }
 },
 "nbformat": 4,
 "nbformat_minor": 5
}
